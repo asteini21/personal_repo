{
 "cells": [
  {
   "cell_type": "code",
   "execution_count": null,
   "metadata": {
    "vscode": {
     "languageId": "plaintext"
    }
   },
   "outputs": [],
   "source": [
    "# Aggregate the data based on compound year and state code while adding together the counts of usage estimates and counting the number of counties\n",
    "aggregated_data = pesticides_df.groupby(['COMPOUND', 'YEAR', 'STATE_FIPS_CODE', ]).agg(\n",
    "    low_estimate=('EPEST_LOW_KG', 'sum'),\n",
    "    high_estimate=('EPEST_HIGH_KG', 'sum'),\n",
    "    number_of_values=('COUNTY_FIPS_CODE', 'count')\n",
    ")\n",
    "\n",
    "pest_df = aggregated_data "
   ]
  },
  {
   "cell_type": "code",
   "execution_count": null,
   "metadata": {
    "vscode": {
     "languageId": "plaintext"
    }
   },
   "outputs": [],
   "source": [
    "# Change the name of the low estimate column to the true estimate\n",
    "pest_df['estimate'] = pest_df['low_estimate']"
   ]
  },
  {
   "cell_type": "code",
   "execution_count": null,
   "metadata": {
    "vscode": {
     "languageId": "plaintext"
    }
   },
   "outputs": [],
   "source": [
    "# Take out one of the estimates so that we only have one average; will use low estimate (or best case scenario)\n",
    "# Estimates to close to worry to much about the differences\n",
    "pest_df = pest_df[['estimate']]"
   ]
  },
  {
   "cell_type": "code",
   "execution_count": null,
   "metadata": {
    "vscode": {
     "languageId": "plaintext"
    }
   },
   "outputs": [],
   "source": [
    "# Plot the linear regression model; The line versus the test data\n",
    "plt.scatter(X_test, y_test, color='blue', label='Actual')\n",
    "plt.plot(X_test, y_pred, color='red', label='Predicted')\n",
    "plt.title('Pesticide Usage vs Average Crop Yield')\n",
    "plt.xlabel('Pesticide Tonnage')\n",
    "plt.ylabel('Average Crop Yield Between All Eight Crops (tonnes per hectare)')\n",
    "plt.show()"
   ]
  }
 ],
 "metadata": {
  "language_info": {
   "name": "python"
  }
 },
 "nbformat": 4,
 "nbformat_minor": 2
}
